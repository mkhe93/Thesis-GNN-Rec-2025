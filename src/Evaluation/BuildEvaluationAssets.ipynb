{
 "cells": [
  {
   "metadata": {},
   "cell_type": "markdown",
   "source": [
    "## Build Evaluation Dataset `EvaluationData.parquet`\n",
    "\n",
    "- Merge information of test runs with characteristics of each dataset, and for the \"best\" and \"worst\" users, namely:\n",
    "    -  `4-TestRuns/results/{EVAL_RUN}/{Model}-{EVAL_RUN}.csv`\n",
    "    - `DatasetCharacteristics.csv`\n",
    "    - `BestWorstUserTopologicalChars.csv`\n",
    "    - `UserAveragePopularity.csv`"
   ],
   "id": "46cb9321c92f4ed2"
  },
  {
   "metadata": {
    "ExecuteTime": {
     "end_time": "2025-02-16T09:00:59.847616Z",
     "start_time": "2025-02-16T09:00:55.510347Z"
    }
   },
   "cell_type": "code",
   "source": [
    "import pandas as pd\n",
    "import numpy as np\n",
    "from utils import load_benchmark_datasets\n",
    "from src.config import EVALUATION_DIRECTORY, json_dumps_user_columns\n",
    "from utils import get_users_topological_chars, translate_userids, build_users_popularity_lookup_file, get_user_popularity, get_evaluation_data"
   ],
   "id": "53812e739772c602",
   "outputs": [],
   "execution_count": 1
  },
  {
   "metadata": {},
   "cell_type": "markdown",
   "source": [
    "### 1. Load Dataset Characteristics\n",
    "- read `DatasetCharacteristics.csv`\n",
    "- calculate may useful remaining metrics"
   ],
   "id": "d2885e57b1607b25"
  },
  {
   "metadata": {
    "ExecuteTime": {
     "end_time": "2025-02-16T09:01:00.942980Z",
     "start_time": "2025-02-16T09:01:00.933628Z"
    }
   },
   "cell_type": "code",
   "source": [
    "dataset_split_characteristics_df = pd.read_csv(EVALUATION_DIRECTORY.joinpath(f\"utils/DatasetCharacteristics.csv\"), sep=\"\\t\")\n",
    "print(dataset_split_characteristics_df.shape)"
   ],
   "id": "dc4f2fcd9b14f8c5",
   "outputs": [
    {
     "name": "stdout",
     "output_type": "stream",
     "text": [
      "(176, 37)\n"
     ]
    }
   ],
   "execution_count": 2
  },
  {
   "metadata": {
    "ExecuteTime": {
     "end_time": "2025-02-16T09:01:04.386104Z",
     "start_time": "2025-02-16T09:01:04.380367Z"
    }
   },
   "cell_type": "code",
   "source": [
    "dataset_split_characteristics_df['density'] = 1 - dataset_split_characteristics_df['sparsity']\n",
    "dataset_split_characteristics_df['density_log'] = np.log10(dataset_split_characteristics_df['density'])\n",
    "dataset_split_characteristics_df['average_clustering_coef_dot_user_log'] = np.log10(dataset_split_characteristics_df['average_clustering_coef_dot_user'])\n",
    "dataset_split_characteristics_df['average_clustering_coef_dot_item_log'] = np.log10(dataset_split_characteristics_df['average_clustering_coef_dot_item'])"
   ],
   "id": "1d0918c8f7e2ca52",
   "outputs": [],
   "execution_count": 3
  },
  {
   "metadata": {},
   "cell_type": "markdown",
   "source": [
    "### 2. Load Test Run Datasets\n",
    "-  read `4-TestRuns/results/{EVAL_RUN}/{Model}-{EVAL_RUN}.csv`\n",
    "- merge with previous result"
   ],
   "id": "57bf67a84612754c"
  },
  {
   "metadata": {
    "ExecuteTime": {
     "end_time": "2025-02-16T09:01:07.207771Z",
     "start_time": "2025-02-16T09:01:06.072680Z"
    }
   },
   "cell_type": "code",
   "source": [
    "EVAL_RUN = \"RO\"\n",
    "model_evaluation_df = load_benchmark_datasets(EVAL_RUN)"
   ],
   "id": "cb8469c69769066a",
   "outputs": [],
   "execution_count": 4
  },
  {
   "metadata": {
    "ExecuteTime": {
     "end_time": "2025-02-16T09:01:12.953391Z",
     "start_time": "2025-02-16T09:01:12.946080Z"
    }
   },
   "cell_type": "code",
   "source": [
    "evaluation_dataset_characteristics_df = pd.merge(model_evaluation_df, dataset_split_characteristics_df, on='dataset', how='left')\n",
    "print(evaluation_dataset_characteristics_df.shape)"
   ],
   "id": "6438c5d69eb18152",
   "outputs": [
    {
     "name": "stdout",
     "output_type": "stream",
     "text": [
      "(1584, 61)\n"
     ]
    }
   ],
   "execution_count": 5
  },
  {
   "metadata": {},
   "cell_type": "markdown",
   "source": [
    "### 2. Load User's Characteristics\n",
    "- read / generate `BestWorstUserTopologicalChars.csv`\n",
    "- merge with previous result"
   ],
   "id": "418f4ef468d2f377"
  },
  {
   "metadata": {},
   "cell_type": "code",
   "source": [
    "# HINT: takes approx. 5h\n",
    "file_path = EVALUATION_DIRECTORY.joinpath(f\"{EVAL_RUN}/BestWorstUserTopologicalChars.csv\")\n",
    "user_topologies_df = get_users_topological_chars(evaluation_dataset_characteristics_df, file_path, num_datasets=176)"
   ],
   "id": "10204b2805757da2",
   "outputs": [],
   "execution_count": null
  },
  {
   "metadata": {
    "ExecuteTime": {
     "end_time": "2025-02-16T09:01:15.994340Z",
     "start_time": "2025-02-16T09:01:15.988666Z"
    }
   },
   "cell_type": "code",
   "source": [
    "evaluation_dataset_characteristics_user_topologies_df = pd.merge(evaluation_dataset_characteristics_df, user_topologies_df, on='dataset', how='left')\n",
    "print(evaluation_dataset_characteristics_user_topologies_df.shape)"
   ],
   "id": "b1b501f1cf6ff19a",
   "outputs": [
    {
     "name": "stdout",
     "output_type": "stream",
     "text": [
      "(1584, 65)\n"
     ]
    }
   ],
   "execution_count": 7
  },
  {
   "metadata": {},
   "cell_type": "markdown",
   "source": [
    "### 3. Load User's Average Popularity of the interacted Items\n",
    "- translate userIDs from _recboleID_ -> _localID_ -> _globalID_ to match average popularity of these items, the \"best\" / \"worst\" users in `UserAveragePopularity.csv\"` \n",
    "    - global ID: the userID which holds on all splits\n",
    "    - local ID: the userID which is only valid within one split\n",
    "    - recbole ID: the userID which is assigned after the filtering by RecBole\n",
    "- read / generate `UserAveragePopularity.csv`\n",
    "- generate final dataframe"
   ],
   "id": "6f84d8b1f301c952"
  },
  {
   "metadata": {
    "ExecuteTime": {
     "end_time": "2025-02-16T08:57:19.814661Z",
     "start_time": "2025-02-16T08:44:30.334769Z"
    }
   },
   "cell_type": "code",
   "source": [
    "# HINT: takes approx. 10-20min.\n",
    "translated_ids_df = translate_userids(evaluation_dataset_characteristics_user_topologies_df, \n",
    "                                      num_rows=evaluation_dataset_characteristics_user_topologies_df.shape[0])"
   ],
   "id": "9b898f6994020fd4",
   "outputs": [
    {
     "name": "stderr",
     "output_type": "stream",
     "text": [
      "100%|██████████| 1584/1584 [12:49<00:00,  2.06rows/s]\n"
     ]
    }
   ],
   "execution_count": 9
  },
  {
   "metadata": {},
   "cell_type": "code",
   "source": [
    "# HINT: takes approx. 1min\n",
    "file_path = EVALUATION_DIRECTORY.joinpath(\"utils/UserAveragePopularity.csv\")\n",
    "popularity_dict = build_users_popularity_lookup_file(file_path, num_datasets=177)"
   ],
   "id": "d06882c8d5b7747b",
   "outputs": [],
   "execution_count": null
  },
  {
   "metadata": {
    "ExecuteTime": {
     "end_time": "2025-02-16T08:58:58.847411Z",
     "start_time": "2025-02-16T08:57:36.701602Z"
    }
   },
   "cell_type": "code",
   "source": [
    "# NOTE: takes approx. 2-3 min\n",
    "classical_user_characteristics_df = get_user_popularity(translated_ids_df, popularity_dict, num_rows = translated_ids_df.shape[0])"
   ],
   "id": "c09e7895f1bb2b93",
   "outputs": [
    {
     "name": "stderr",
     "output_type": "stream",
     "text": [
      "100%|██████████| 1584/1584 [01:22<00:00, 19.29rows/s]\n"
     ]
    }
   ],
   "execution_count": 11
  },
  {
   "metadata": {},
   "cell_type": "markdown",
   "source": [
    "### 4. Store the files as Parquet\n",
    "- `.parquet` is a columnar storage format optimized for high-performance data querying and compression, reducing file sizes and improving read/write speeds compared to `.csv`"
   ],
   "id": "7f5f30b8888f8b7a"
  },
  {
   "metadata": {
    "ExecuteTime": {
     "end_time": "2025-02-16T08:58:59.658205Z",
     "start_time": "2025-02-16T08:58:59.564572Z"
    }
   },
   "cell_type": "code",
   "source": "final_eval_df = json_dumps_user_columns(classical_user_characteristics_df)",
   "id": "b3127d8e8b746448",
   "outputs": [],
   "execution_count": 12
  },
  {
   "metadata": {
    "ExecuteTime": {
     "end_time": "2025-02-16T08:59:17.592320Z",
     "start_time": "2025-02-16T08:59:02.312794Z"
    }
   },
   "cell_type": "code",
   "source": [
    "file_path = EVALUATION_DIRECTORY.joinpath(f\"{EVAL_RUN}/EvaluationData.parquet\")\n",
    "final_eval_df.to_parquet(file_path, engine=\"pyarrow\", index=False)"
   ],
   "id": "f803c3fe0874eaf",
   "outputs": [],
   "execution_count": 13
  },
  {
   "metadata": {},
   "cell_type": "markdown",
   "source": "#### Examplary: Load from `EvaluationData.parquet`",
   "id": "adf90fedd2824f9c"
  },
  {
   "metadata": {},
   "cell_type": "code",
   "source": [
    "EVAL_RUN = \"TO\"\n",
    "final_eval_df = get_evaluation_data(EVAL_RUN)"
   ],
   "id": "3d71e2a7029be85d",
   "outputs": [],
   "execution_count": null
  }
 ],
 "metadata": {
  "kernelspec": {
   "display_name": "Python 3",
   "language": "python",
   "name": "python3"
  },
  "language_info": {
   "codemirror_mode": {
    "name": "ipython",
    "version": 2
   },
   "file_extension": ".py",
   "mimetype": "text/x-python",
   "name": "python",
   "nbconvert_exporter": "python",
   "pygments_lexer": "ipython2",
   "version": "2.7.6"
  }
 },
 "nbformat": 4,
 "nbformat_minor": 5
}
